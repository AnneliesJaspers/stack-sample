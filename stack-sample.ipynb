{
 "cells": [
  {
   "cell_type": "code",
   "execution_count": 45,
   "metadata": {
    "collapsed": true
   },
   "outputs": [],
   "source": [
    "import os\n",
    "import pandas as pd\n",
    "import torch\n",
    "import transformers"
   ]
  },
  {
   "cell_type": "code",
   "execution_count": 46,
   "outputs": [
    {
     "data": {
      "text/plain": "True"
     },
     "execution_count": 46,
     "metadata": {},
     "output_type": "execute_result"
    }
   ],
   "source": [
    "torch.cuda.is_available()"
   ],
   "metadata": {
    "collapsed": false,
    "pycharm": {
     "name": "#%%\n"
    }
   }
  },
  {
   "cell_type": "code",
   "execution_count": 47,
   "outputs": [],
   "source": [
    "questions = pd.read_csv(os.path.join(\"data\", \"Questions.csv\"), nrows=10000)"
   ],
   "metadata": {
    "collapsed": false,
    "pycharm": {
     "name": "#%%\n"
    }
   }
  },
  {
   "cell_type": "code",
   "execution_count": 75,
   "outputs": [
    {
     "data": {
      "text/plain": "    Id  OwnerUserId          CreationDate            ClosedDate  Score  \\\n0   80         26.0  2008-08-01T13:57:07Z                   NaN     26   \n1   90         58.0  2008-08-01T14:41:24Z  2012-12-26T03:45:49Z    144   \n2  120         83.0  2008-08-01T15:50:08Z                   NaN     21   \n3  180    2089740.0  2008-08-01T18:42:19Z                   NaN     53   \n4  260         91.0  2008-08-01T23:22:08Z                   NaN     49   \n\n                                               Title  \\\n0  SQLStatement.execute() - multiple queries in o...   \n1  Good branching and merging tutorials for Torto...   \n2                                  ASP.NET Site Maps   \n3                 Function for creating color wheels   \n4  Adding scripting functionality to .NET applica...   \n\n                                                Body  \\\n0  <p>I've written a database generation script i...   \n1  <p>Are there any really good tutorials explain...   \n2  <p>Has anyone got experience creating <strong>...   \n3  <p>This is something I've pseudo-solved many t...   \n4  <p>I have a little game written in C#. It uses...   \n\n                                           full_text  \n0  SQLStatement.execute() - multiple queries in o...  \n1  Good branching and merging tutorials for Torto...  \n2  ASP.NET Site Maps\\n<p>Has anyone got experienc...  \n3  Function for creating color wheels\\n<p>This is...  \n4  Adding scripting functionality to .NET applica...  ",
      "text/html": "<div>\n<style scoped>\n    .dataframe tbody tr th:only-of-type {\n        vertical-align: middle;\n    }\n\n    .dataframe tbody tr th {\n        vertical-align: top;\n    }\n\n    .dataframe thead th {\n        text-align: right;\n    }\n</style>\n<table border=\"1\" class=\"dataframe\">\n  <thead>\n    <tr style=\"text-align: right;\">\n      <th></th>\n      <th>Id</th>\n      <th>OwnerUserId</th>\n      <th>CreationDate</th>\n      <th>ClosedDate</th>\n      <th>Score</th>\n      <th>Title</th>\n      <th>Body</th>\n      <th>full_text</th>\n    </tr>\n  </thead>\n  <tbody>\n    <tr>\n      <th>0</th>\n      <td>80</td>\n      <td>26.0</td>\n      <td>2008-08-01T13:57:07Z</td>\n      <td>NaN</td>\n      <td>26</td>\n      <td>SQLStatement.execute() - multiple queries in o...</td>\n      <td>&lt;p&gt;I've written a database generation script i...</td>\n      <td>SQLStatement.execute() - multiple queries in o...</td>\n    </tr>\n    <tr>\n      <th>1</th>\n      <td>90</td>\n      <td>58.0</td>\n      <td>2008-08-01T14:41:24Z</td>\n      <td>2012-12-26T03:45:49Z</td>\n      <td>144</td>\n      <td>Good branching and merging tutorials for Torto...</td>\n      <td>&lt;p&gt;Are there any really good tutorials explain...</td>\n      <td>Good branching and merging tutorials for Torto...</td>\n    </tr>\n    <tr>\n      <th>2</th>\n      <td>120</td>\n      <td>83.0</td>\n      <td>2008-08-01T15:50:08Z</td>\n      <td>NaN</td>\n      <td>21</td>\n      <td>ASP.NET Site Maps</td>\n      <td>&lt;p&gt;Has anyone got experience creating &lt;strong&gt;...</td>\n      <td>ASP.NET Site Maps\\n&lt;p&gt;Has anyone got experienc...</td>\n    </tr>\n    <tr>\n      <th>3</th>\n      <td>180</td>\n      <td>2089740.0</td>\n      <td>2008-08-01T18:42:19Z</td>\n      <td>NaN</td>\n      <td>53</td>\n      <td>Function for creating color wheels</td>\n      <td>&lt;p&gt;This is something I've pseudo-solved many t...</td>\n      <td>Function for creating color wheels\\n&lt;p&gt;This is...</td>\n    </tr>\n    <tr>\n      <th>4</th>\n      <td>260</td>\n      <td>91.0</td>\n      <td>2008-08-01T23:22:08Z</td>\n      <td>NaN</td>\n      <td>49</td>\n      <td>Adding scripting functionality to .NET applica...</td>\n      <td>&lt;p&gt;I have a little game written in C#. It uses...</td>\n      <td>Adding scripting functionality to .NET applica...</td>\n    </tr>\n  </tbody>\n</table>\n</div>"
     },
     "execution_count": 75,
     "metadata": {},
     "output_type": "execute_result"
    }
   ],
   "source": [
    "questions.head()"
   ],
   "metadata": {
    "collapsed": false,
    "pycharm": {
     "name": "#%%\n"
    }
   }
  },
  {
   "cell_type": "code",
   "execution_count": 74,
   "outputs": [],
   "source": [
    "questions['full_text'] = questions['Title'] + \"\\n\" + questions['Body']"
   ],
   "metadata": {
    "collapsed": false,
    "pycharm": {
     "name": "#%%\n"
    }
   }
  },
  {
   "cell_type": "code",
   "execution_count": 76,
   "outputs": [],
   "source": [
    "tags = pd.read_csv(os.path.join(\"data\", \"Tags.csv\"))"
   ],
   "metadata": {
    "collapsed": false,
    "pycharm": {
     "name": "#%%\n"
    }
   }
  },
  {
   "cell_type": "code",
   "execution_count": 77,
   "outputs": [
    {
     "data": {
      "text/plain": "   Id             Tag\n0  80            flex\n1  80  actionscript-3\n2  80             air\n3  90             svn\n4  90     tortoisesvn",
      "text/html": "<div>\n<style scoped>\n    .dataframe tbody tr th:only-of-type {\n        vertical-align: middle;\n    }\n\n    .dataframe tbody tr th {\n        vertical-align: top;\n    }\n\n    .dataframe thead th {\n        text-align: right;\n    }\n</style>\n<table border=\"1\" class=\"dataframe\">\n  <thead>\n    <tr style=\"text-align: right;\">\n      <th></th>\n      <th>Id</th>\n      <th>Tag</th>\n    </tr>\n  </thead>\n  <tbody>\n    <tr>\n      <th>0</th>\n      <td>80</td>\n      <td>flex</td>\n    </tr>\n    <tr>\n      <th>1</th>\n      <td>80</td>\n      <td>actionscript-3</td>\n    </tr>\n    <tr>\n      <th>2</th>\n      <td>80</td>\n      <td>air</td>\n    </tr>\n    <tr>\n      <th>3</th>\n      <td>90</td>\n      <td>svn</td>\n    </tr>\n    <tr>\n      <th>4</th>\n      <td>90</td>\n      <td>tortoisesvn</td>\n    </tr>\n  </tbody>\n</table>\n</div>"
     },
     "execution_count": 77,
     "metadata": {},
     "output_type": "execute_result"
    }
   ],
   "source": [
    "tags.head()"
   ],
   "metadata": {
    "collapsed": false,
    "pycharm": {
     "name": "#%%\n"
    }
   }
  },
  {
   "cell_type": "code",
   "execution_count": 78,
   "outputs": [
    {
     "data": {
      "text/plain": "37034"
     },
     "execution_count": 78,
     "metadata": {},
     "output_type": "execute_result"
    }
   ],
   "source": [
    "tags['Tag'].nunique()"
   ],
   "metadata": {
    "collapsed": false,
    "pycharm": {
     "name": "#%%\n"
    }
   }
  },
  {
   "cell_type": "code",
   "execution_count": 79,
   "outputs": [
    {
     "data": {
      "text/plain": "javascript           124155\njava                 115212\nc#                   101186\nphp                   98808\nandroid               90659\n                      ...  \ntestcasesource            1\ngoogle-floodlight         1\niecapt                    1\nnetfs                     1\ndocker-windows            1\nName: Tag, Length: 37034, dtype: int64"
     },
     "execution_count": 79,
     "metadata": {},
     "output_type": "execute_result"
    }
   ],
   "source": [
    "tags['Tag'].value_counts()"
   ],
   "metadata": {
    "collapsed": false,
    "pycharm": {
     "name": "#%%\n"
    }
   }
  },
  {
   "cell_type": "markdown",
   "source": [
    "#### Only take the 100 most common tags"
   ],
   "metadata": {
    "collapsed": false,
    "pycharm": {
     "name": "#%% md\n"
    }
   }
  },
  {
   "cell_type": "code",
   "execution_count": 80,
   "outputs": [],
   "source": [
    "tags_top_100 = tags['Tag'].value_counts().head(100).index"
   ],
   "metadata": {
    "collapsed": false,
    "pycharm": {
     "name": "#%%\n"
    }
   }
  },
  {
   "cell_type": "code",
   "execution_count": 81,
   "outputs": [],
   "source": [
    "tags_filtered = tags[tags['Tag'].isin(tags_top_100)]"
   ],
   "metadata": {
    "collapsed": false,
    "pycharm": {
     "name": "#%%\n"
    }
   }
  },
  {
   "cell_type": "code",
   "execution_count": 82,
   "outputs": [
    {
     "data": {
      "text/plain": "1755529"
     },
     "execution_count": 82,
     "metadata": {},
     "output_type": "execute_result"
    }
   ],
   "source": [
    "len(tags_filtered)"
   ],
   "metadata": {
    "collapsed": false,
    "pycharm": {
     "name": "#%%\n"
    }
   }
  },
  {
   "cell_type": "markdown",
   "source": [
    "### Join tags to questions dataset"
   ],
   "metadata": {
    "collapsed": false,
    "pycharm": {
     "name": "#%% md\n"
    }
   }
  },
  {
   "cell_type": "code",
   "execution_count": 83,
   "outputs": [],
   "source": [
    "# create dataframe with a column for each possible tag and a 1 or 0 depending on whether the ID has that tag\n",
    "tags_onehot = tags_filtered.assign(values=1).pivot(index='Id', columns='Tag', values=\"values\").fillna(0)"
   ],
   "metadata": {
    "collapsed": false,
    "pycharm": {
     "name": "#%%\n"
    }
   }
  },
  {
   "cell_type": "code",
   "execution_count": 84,
   "outputs": [
    {
     "data": {
      "text/plain": "Tag  .htaccess  .net  ajax  algorithm  android  angularjs  apache  api  \\\nId                                                                       \n120        0.0   0.0   0.0        0.0      0.0        0.0     0.0  0.0   \n180        0.0   0.0   0.0        1.0      0.0        0.0     0.0  0.0   \n260        0.0   1.0   0.0        0.0      0.0        0.0     0.0  0.0   \n330        0.0   0.0   0.0        0.0      0.0        0.0     0.0  0.0   \n470        0.0   1.0   0.0        0.0      0.0        0.0     0.0  0.0   \n\nTag  arrays  asp.net  ...  visual-studio  visual-studio-2010  wcf  \\\nId                    ...                                           \n120     0.0      1.0  ...            0.0                 0.0  0.0   \n180     0.0      0.0  ...            0.0                 0.0  0.0   \n260     0.0      0.0  ...            0.0                 0.0  0.0   \n330     0.0      0.0  ...            0.0                 0.0  0.0   \n470     0.0      0.0  ...            0.0                 0.0  0.0   \n\nTag  web-services  windows  winforms  wordpress  wpf  xcode  xml  \nId                                                                \n120           0.0      0.0       0.0        0.0  0.0    0.0  0.0  \n180           0.0      0.0       0.0        0.0  0.0    0.0  0.0  \n260           0.0      0.0       0.0        0.0  0.0    0.0  0.0  \n330           0.0      0.0       0.0        0.0  0.0    0.0  0.0  \n470           1.0      0.0       0.0        0.0  0.0    0.0  0.0  \n\n[5 rows x 100 columns]",
      "text/html": "<div>\n<style scoped>\n    .dataframe tbody tr th:only-of-type {\n        vertical-align: middle;\n    }\n\n    .dataframe tbody tr th {\n        vertical-align: top;\n    }\n\n    .dataframe thead th {\n        text-align: right;\n    }\n</style>\n<table border=\"1\" class=\"dataframe\">\n  <thead>\n    <tr style=\"text-align: right;\">\n      <th>Tag</th>\n      <th>.htaccess</th>\n      <th>.net</th>\n      <th>ajax</th>\n      <th>algorithm</th>\n      <th>android</th>\n      <th>angularjs</th>\n      <th>apache</th>\n      <th>api</th>\n      <th>arrays</th>\n      <th>asp.net</th>\n      <th>...</th>\n      <th>visual-studio</th>\n      <th>visual-studio-2010</th>\n      <th>wcf</th>\n      <th>web-services</th>\n      <th>windows</th>\n      <th>winforms</th>\n      <th>wordpress</th>\n      <th>wpf</th>\n      <th>xcode</th>\n      <th>xml</th>\n    </tr>\n    <tr>\n      <th>Id</th>\n      <th></th>\n      <th></th>\n      <th></th>\n      <th></th>\n      <th></th>\n      <th></th>\n      <th></th>\n      <th></th>\n      <th></th>\n      <th></th>\n      <th></th>\n      <th></th>\n      <th></th>\n      <th></th>\n      <th></th>\n      <th></th>\n      <th></th>\n      <th></th>\n      <th></th>\n      <th></th>\n      <th></th>\n    </tr>\n  </thead>\n  <tbody>\n    <tr>\n      <th>120</th>\n      <td>0.0</td>\n      <td>0.0</td>\n      <td>0.0</td>\n      <td>0.0</td>\n      <td>0.0</td>\n      <td>0.0</td>\n      <td>0.0</td>\n      <td>0.0</td>\n      <td>0.0</td>\n      <td>1.0</td>\n      <td>...</td>\n      <td>0.0</td>\n      <td>0.0</td>\n      <td>0.0</td>\n      <td>0.0</td>\n      <td>0.0</td>\n      <td>0.0</td>\n      <td>0.0</td>\n      <td>0.0</td>\n      <td>0.0</td>\n      <td>0.0</td>\n    </tr>\n    <tr>\n      <th>180</th>\n      <td>0.0</td>\n      <td>0.0</td>\n      <td>0.0</td>\n      <td>1.0</td>\n      <td>0.0</td>\n      <td>0.0</td>\n      <td>0.0</td>\n      <td>0.0</td>\n      <td>0.0</td>\n      <td>0.0</td>\n      <td>...</td>\n      <td>0.0</td>\n      <td>0.0</td>\n      <td>0.0</td>\n      <td>0.0</td>\n      <td>0.0</td>\n      <td>0.0</td>\n      <td>0.0</td>\n      <td>0.0</td>\n      <td>0.0</td>\n      <td>0.0</td>\n    </tr>\n    <tr>\n      <th>260</th>\n      <td>0.0</td>\n      <td>1.0</td>\n      <td>0.0</td>\n      <td>0.0</td>\n      <td>0.0</td>\n      <td>0.0</td>\n      <td>0.0</td>\n      <td>0.0</td>\n      <td>0.0</td>\n      <td>0.0</td>\n      <td>...</td>\n      <td>0.0</td>\n      <td>0.0</td>\n      <td>0.0</td>\n      <td>0.0</td>\n      <td>0.0</td>\n      <td>0.0</td>\n      <td>0.0</td>\n      <td>0.0</td>\n      <td>0.0</td>\n      <td>0.0</td>\n    </tr>\n    <tr>\n      <th>330</th>\n      <td>0.0</td>\n      <td>0.0</td>\n      <td>0.0</td>\n      <td>0.0</td>\n      <td>0.0</td>\n      <td>0.0</td>\n      <td>0.0</td>\n      <td>0.0</td>\n      <td>0.0</td>\n      <td>0.0</td>\n      <td>...</td>\n      <td>0.0</td>\n      <td>0.0</td>\n      <td>0.0</td>\n      <td>0.0</td>\n      <td>0.0</td>\n      <td>0.0</td>\n      <td>0.0</td>\n      <td>0.0</td>\n      <td>0.0</td>\n      <td>0.0</td>\n    </tr>\n    <tr>\n      <th>470</th>\n      <td>0.0</td>\n      <td>1.0</td>\n      <td>0.0</td>\n      <td>0.0</td>\n      <td>0.0</td>\n      <td>0.0</td>\n      <td>0.0</td>\n      <td>0.0</td>\n      <td>0.0</td>\n      <td>0.0</td>\n      <td>...</td>\n      <td>0.0</td>\n      <td>0.0</td>\n      <td>0.0</td>\n      <td>1.0</td>\n      <td>0.0</td>\n      <td>0.0</td>\n      <td>0.0</td>\n      <td>0.0</td>\n      <td>0.0</td>\n      <td>0.0</td>\n    </tr>\n  </tbody>\n</table>\n<p>5 rows × 100 columns</p>\n</div>"
     },
     "execution_count": 84,
     "metadata": {},
     "output_type": "execute_result"
    }
   ],
   "source": [
    "tags_onehot.head()"
   ],
   "metadata": {
    "collapsed": false,
    "pycharm": {
     "name": "#%%\n"
    }
   }
  },
  {
   "cell_type": "code",
   "execution_count": 85,
   "outputs": [],
   "source": [
    "questions_with_tags = questions.merge(tags_onehot, how='left', on='Id')"
   ],
   "metadata": {
    "collapsed": false,
    "pycharm": {
     "name": "#%%\n"
    }
   }
  },
  {
   "cell_type": "code",
   "execution_count": 86,
   "outputs": [],
   "source": [
    "questions_with_tags[tags_top_100] = questions_with_tags[tags_top_100].fillna(0)"
   ],
   "metadata": {
    "collapsed": false,
    "pycharm": {
     "name": "#%%\n"
    }
   }
  },
  {
   "cell_type": "code",
   "execution_count": 87,
   "outputs": [
    {
     "data": {
      "text/plain": "    Id  OwnerUserId          CreationDate            ClosedDate  Score  \\\n0   80         26.0  2008-08-01T13:57:07Z                   NaN     26   \n1   90         58.0  2008-08-01T14:41:24Z  2012-12-26T03:45:49Z    144   \n2  120         83.0  2008-08-01T15:50:08Z                   NaN     21   \n3  180    2089740.0  2008-08-01T18:42:19Z                   NaN     53   \n4  260         91.0  2008-08-01T23:22:08Z                   NaN     49   \n\n                                               Title  \\\n0  SQLStatement.execute() - multiple queries in o...   \n1  Good branching and merging tutorials for Torto...   \n2                                  ASP.NET Site Maps   \n3                 Function for creating color wheels   \n4  Adding scripting functionality to .NET applica...   \n\n                                                Body  \\\n0  <p>I've written a database generation script i...   \n1  <p>Are there any really good tutorials explain...   \n2  <p>Has anyone got experience creating <strong>...   \n3  <p>This is something I've pseudo-solved many t...   \n4  <p>I have a little game written in C#. It uses...   \n\n                                           full_text  .htaccess  .net  ...  \\\n0  SQLStatement.execute() - multiple queries in o...        0.0   0.0  ...   \n1  Good branching and merging tutorials for Torto...        0.0   0.0  ...   \n2  ASP.NET Site Maps\\n<p>Has anyone got experienc...        0.0   0.0  ...   \n3  Function for creating color wheels\\n<p>This is...        0.0   0.0  ...   \n4  Adding scripting functionality to .NET applica...        0.0   1.0  ...   \n\n   visual-studio  visual-studio-2010  wcf  web-services  windows  winforms  \\\n0            0.0                 0.0  0.0           0.0      0.0       0.0   \n1            0.0                 0.0  0.0           0.0      0.0       0.0   \n2            0.0                 0.0  0.0           0.0      0.0       0.0   \n3            0.0                 0.0  0.0           0.0      0.0       0.0   \n4            0.0                 0.0  0.0           0.0      0.0       0.0   \n\n   wordpress  wpf  xcode  xml  \n0        0.0  0.0    0.0  0.0  \n1        0.0  0.0    0.0  0.0  \n2        0.0  0.0    0.0  0.0  \n3        0.0  0.0    0.0  0.0  \n4        0.0  0.0    0.0  0.0  \n\n[5 rows x 108 columns]",
      "text/html": "<div>\n<style scoped>\n    .dataframe tbody tr th:only-of-type {\n        vertical-align: middle;\n    }\n\n    .dataframe tbody tr th {\n        vertical-align: top;\n    }\n\n    .dataframe thead th {\n        text-align: right;\n    }\n</style>\n<table border=\"1\" class=\"dataframe\">\n  <thead>\n    <tr style=\"text-align: right;\">\n      <th></th>\n      <th>Id</th>\n      <th>OwnerUserId</th>\n      <th>CreationDate</th>\n      <th>ClosedDate</th>\n      <th>Score</th>\n      <th>Title</th>\n      <th>Body</th>\n      <th>full_text</th>\n      <th>.htaccess</th>\n      <th>.net</th>\n      <th>...</th>\n      <th>visual-studio</th>\n      <th>visual-studio-2010</th>\n      <th>wcf</th>\n      <th>web-services</th>\n      <th>windows</th>\n      <th>winforms</th>\n      <th>wordpress</th>\n      <th>wpf</th>\n      <th>xcode</th>\n      <th>xml</th>\n    </tr>\n  </thead>\n  <tbody>\n    <tr>\n      <th>0</th>\n      <td>80</td>\n      <td>26.0</td>\n      <td>2008-08-01T13:57:07Z</td>\n      <td>NaN</td>\n      <td>26</td>\n      <td>SQLStatement.execute() - multiple queries in o...</td>\n      <td>&lt;p&gt;I've written a database generation script i...</td>\n      <td>SQLStatement.execute() - multiple queries in o...</td>\n      <td>0.0</td>\n      <td>0.0</td>\n      <td>...</td>\n      <td>0.0</td>\n      <td>0.0</td>\n      <td>0.0</td>\n      <td>0.0</td>\n      <td>0.0</td>\n      <td>0.0</td>\n      <td>0.0</td>\n      <td>0.0</td>\n      <td>0.0</td>\n      <td>0.0</td>\n    </tr>\n    <tr>\n      <th>1</th>\n      <td>90</td>\n      <td>58.0</td>\n      <td>2008-08-01T14:41:24Z</td>\n      <td>2012-12-26T03:45:49Z</td>\n      <td>144</td>\n      <td>Good branching and merging tutorials for Torto...</td>\n      <td>&lt;p&gt;Are there any really good tutorials explain...</td>\n      <td>Good branching and merging tutorials for Torto...</td>\n      <td>0.0</td>\n      <td>0.0</td>\n      <td>...</td>\n      <td>0.0</td>\n      <td>0.0</td>\n      <td>0.0</td>\n      <td>0.0</td>\n      <td>0.0</td>\n      <td>0.0</td>\n      <td>0.0</td>\n      <td>0.0</td>\n      <td>0.0</td>\n      <td>0.0</td>\n    </tr>\n    <tr>\n      <th>2</th>\n      <td>120</td>\n      <td>83.0</td>\n      <td>2008-08-01T15:50:08Z</td>\n      <td>NaN</td>\n      <td>21</td>\n      <td>ASP.NET Site Maps</td>\n      <td>&lt;p&gt;Has anyone got experience creating &lt;strong&gt;...</td>\n      <td>ASP.NET Site Maps\\n&lt;p&gt;Has anyone got experienc...</td>\n      <td>0.0</td>\n      <td>0.0</td>\n      <td>...</td>\n      <td>0.0</td>\n      <td>0.0</td>\n      <td>0.0</td>\n      <td>0.0</td>\n      <td>0.0</td>\n      <td>0.0</td>\n      <td>0.0</td>\n      <td>0.0</td>\n      <td>0.0</td>\n      <td>0.0</td>\n    </tr>\n    <tr>\n      <th>3</th>\n      <td>180</td>\n      <td>2089740.0</td>\n      <td>2008-08-01T18:42:19Z</td>\n      <td>NaN</td>\n      <td>53</td>\n      <td>Function for creating color wheels</td>\n      <td>&lt;p&gt;This is something I've pseudo-solved many t...</td>\n      <td>Function for creating color wheels\\n&lt;p&gt;This is...</td>\n      <td>0.0</td>\n      <td>0.0</td>\n      <td>...</td>\n      <td>0.0</td>\n      <td>0.0</td>\n      <td>0.0</td>\n      <td>0.0</td>\n      <td>0.0</td>\n      <td>0.0</td>\n      <td>0.0</td>\n      <td>0.0</td>\n      <td>0.0</td>\n      <td>0.0</td>\n    </tr>\n    <tr>\n      <th>4</th>\n      <td>260</td>\n      <td>91.0</td>\n      <td>2008-08-01T23:22:08Z</td>\n      <td>NaN</td>\n      <td>49</td>\n      <td>Adding scripting functionality to .NET applica...</td>\n      <td>&lt;p&gt;I have a little game written in C#. It uses...</td>\n      <td>Adding scripting functionality to .NET applica...</td>\n      <td>0.0</td>\n      <td>1.0</td>\n      <td>...</td>\n      <td>0.0</td>\n      <td>0.0</td>\n      <td>0.0</td>\n      <td>0.0</td>\n      <td>0.0</td>\n      <td>0.0</td>\n      <td>0.0</td>\n      <td>0.0</td>\n      <td>0.0</td>\n      <td>0.0</td>\n    </tr>\n  </tbody>\n</table>\n<p>5 rows × 108 columns</p>\n</div>"
     },
     "execution_count": 87,
     "metadata": {},
     "output_type": "execute_result"
    }
   ],
   "source": [
    "questions_with_tags.head()"
   ],
   "metadata": {
    "collapsed": false,
    "pycharm": {
     "name": "#%%\n"
    }
   }
  },
  {
   "cell_type": "code",
   "execution_count": 88,
   "outputs": [],
   "source": [
    "number_of_tags = questions_with_tags[tags_top_100].sum(axis=1)"
   ],
   "metadata": {
    "collapsed": false,
    "pycharm": {
     "name": "#%%\n"
    }
   }
  },
  {
   "cell_type": "code",
   "execution_count": 89,
   "outputs": [
    {
     "data": {
      "text/plain": "1.0    4333\n2.0    2667\n0.0    2260\n3.0     644\n4.0      87\n5.0       9\ndtype: int64"
     },
     "execution_count": 89,
     "metadata": {},
     "output_type": "execute_result"
    }
   ],
   "source": [
    "number_of_tags.value_counts()"
   ],
   "metadata": {
    "collapsed": false,
    "pycharm": {
     "name": "#%%\n"
    }
   }
  },
  {
   "cell_type": "markdown",
   "source": [
    "#### Observation: Most questions have a tag"
   ],
   "metadata": {
    "collapsed": false,
    "pycharm": {
     "name": "#%% md\n"
    }
   }
  },
  {
   "cell_type": "markdown",
   "source": [
    "# Baseline\n",
    "\n",
    "if tag is mentioned literally in text, predict yes, otherwise no"
   ],
   "metadata": {
    "collapsed": false,
    "pycharm": {
     "name": "#%% md\n"
    }
   }
  },
  {
   "cell_type": "code",
   "execution_count": 90,
   "outputs": [],
   "source": [
    "questions_baseline = questions_with_tags.copy()\n",
    "questions_baseline[tags_top_100] = 0"
   ],
   "metadata": {
    "collapsed": false,
    "pycharm": {
     "name": "#%%\n"
    }
   }
  },
  {
   "cell_type": "code",
   "execution_count": 94,
   "outputs": [],
   "source": [
    "for tag in tags_top_100:\n",
    "    questions_baseline[tag] = questions_baseline['full_text'].str.contains(tag, regex=False)"
   ],
   "metadata": {
    "collapsed": false,
    "pycharm": {
     "name": "#%%\n"
    }
   }
  },
  {
   "cell_type": "code",
   "execution_count": 97,
   "outputs": [],
   "source": [
    "number_of_tags = questions_baseline[tags_top_100].sum(axis=1)"
   ],
   "metadata": {
    "collapsed": false,
    "pycharm": {
     "name": "#%%\n"
    }
   }
  },
  {
   "cell_type": "code",
   "execution_count": 98,
   "outputs": [
    {
     "data": {
      "text/plain": "3     3089\n2     2726\n4     2073\n5     1114\n6      537\n7      224\n8      112\n1       48\n9       37\n10      26\n11       8\n12       2\n14       2\n13       1\n0        1\ndtype: int64"
     },
     "execution_count": 98,
     "metadata": {},
     "output_type": "execute_result"
    }
   ],
   "source": [
    "number_of_tags.value_counts()"
   ],
   "metadata": {
    "collapsed": false,
    "pycharm": {
     "name": "#%%\n"
    }
   }
  },
  {
   "cell_type": "code",
   "execution_count": 102,
   "outputs": [
    {
     "name": "stdout",
     "output_type": "stream",
     "text": [
      "is SFig language syntax efficient and clear (and better than Spring-Framework's XML DSL)?\n",
      "<p><strong>ADDENDUM EDIT:</strong></p>\n",
      "\n",
      "<blockquote>\n",
      "  <p>Have not accepted an answer to this as\n",
      "  there has not been any feedback from\n",
      "  experienced Spring Framework\n",
      "  developers.</p>\n",
      "</blockquote>\n",
      "\n",
      "<p>I've been working on a replacement DSL to use for Spring-Framework applicationContext.xml files (where bean initialization and dependency relationships are described for loading up into the Spring bean factory).</p>\n",
      "\n",
      "<p>My motivation is that I just flat out don't like Spring's use of XML for this purpose nor do I really like any of the alternatives that have been devised so far. For various reasons that I won't go into, I want to stay with a declarative language and not some imperative scripting language such as Groovy.</p>\n",
      "\n",
      "<p>So I grabbed the ANTLR parser tool and have been devising a new bean factory DSL that I've dubbed SFig. Here's a link that talks more about that:</p>\n",
      "\n",
      "<p><a href=\"http://dobbscodetalk.com/index.php?option=com_content&amp;task=view&amp;id=922&amp;Itemid=85\" rel=\"nofollow\">SFig™ - alternative metadata config language for Spring-Framework</a></p>\n",
      "\n",
      "<p>And here is the source code repository site:</p>\n",
      "\n",
      "<p><a href=\"http://code.google.com/p/sfig/\" rel=\"nofollow\">http://code.google.com/p/sfig/</a></p>\n",
      "\n",
      "<p>I'm interested to know how I'm doing on the language syntax so far. Do you think SFig is both efficient and clear to understand? (I'm particularly concerned right now with the mulit-line text string):</p>\n",
      "\n",
      "<pre><code>properties_include \"classpath:application.properties\";\n",
      "\n",
      "\n",
      "org.apache.commons.dbcp.BasicDataSource dataSource {\n",
      "    @scope = singleton;\n",
      "    @destroy-method = close;\n",
      "    driverClassName = \"${jdbc.driverClassName}\";\n",
      "    url = \"${jdbc.url}\";\n",
      "    username = \"${jdbc.username}\";\n",
      "    password = \"${jdbc.password}\";\n",
      "    defaultAutoCommit = true;\n",
      "}\n",
      "\n",
      "\n",
      "org.springframework.orm.ibatis.SqlMapClientFactoryBean sqlMapClient {\n",
      "    @scope = singleton;\n",
      "    @init-method = afterPropertiesSet;\n",
      "    @factory-method = getObject;\n",
      "    configLocation = \"classpath:sqlmap-config.xml\";\n",
      "    dataSource = $dataSource;\n",
      "}\n",
      "\n",
      "\n",
      "/* this string will have Java unescape encoding applied */\n",
      "STRING str = \"\\tA test\\u0020string with \\\\ escaped character encodings\\r\\n\";\n",
      "\n",
      "\n",
      "/* this string will remain literal - with escape characters remaining in place */\n",
      "STRING regexp = @\"(\\$\\{([a-zA-Z][a-zA-Z0-9._]*)\\})\";\n",
      "\n",
      "\n",
      "/* multi-line text block - equates to a java.lang.String instance */\n",
      "TEXT my_multi_line_text = ///\n",
      "Here is a line of text.\n",
      "This is yet another. Here is a blank line:\n",
      "\n",
      "Now picks up again.\n",
      "///;\n",
      "\n",
      "\n",
      "/* forward use of 'props' bean */\n",
      "java.util.HashMap map {\n",
      "    this( $props );\n",
      "}\n",
      "\n",
      "\n",
      "/* equates to a java.util.Propertis instance */\n",
      "PROPERTIES props {\n",
      "    \"James Ward\" = \"Adobe Flex evangelist\";\n",
      "    \"Stu Stern\" = \"Gorilla Logic - Flex Monkey test automation\";\n",
      "    Dilbert = \"character in popular comic strip of same title\";\n",
      "    \"App Title Display\" = \"Application: ${app.name}\";\n",
      "    \"${app.desc}\" = \"JFig processes text-format Java configuration data\";\n",
      "}\n",
      "\n",
      "\n",
      "/* equates to a java.util.ArrayList instance */\n",
      "LIST list {\n",
      "    this( [\"dusty\", \"moldy\", \"${app.version}\", $str] );\n",
      "    [234, 9798.76, -98, .05, \"numbers\", $props, [\"red\", \"green\", \"blue\"]];\n",
      "}\n",
      "</code></pre>\n",
      "\n",
      "======================\n",
      "Jquery append using multiline\n",
      "<p>I have been working on a project that dynamically creates a javascript file using ASP.NET which is called from another site.</p>\n",
      "\n",
      "<p>This jquery javascript file appends a div and fills it with a rather large HTML segment and in order to do that I need to turn the segment into a string like so:</p>\n",
      "\n",
      "<pre><code>$(document).ready(function(){   \n",
      "var html = \"Giving this magazine such a lofty epithet may seem a bit presumptuous, but for a non scientifically trained outsider this magazine offers a fresh and challenging look at the fast paced world of science that doesn't shy away from humor and the use of terms and ideas that may require its readers to go online and define a term. And in some cases it may inspire the reader to pick up a book on science by such greats as Hawking and Greene in order to better grasp some of the concepts dealing with time, space and atoms. This magazine isn't dumbed down. It includes well placed and efficient illustrations to help explain some of the more abstract points. It is not designed in the way popular magazinea are, in so much as they only touch upon a topic in the simplest manner and then move on before the audience is lost. Yet this magazine keeps the attention of the reader by combining explanatory notes that help people with no background knowledge have some grasp of the topic and by using humor and well written articles to clearly make their points. &lt;br /&gt;For a magazine with a serious and well researched list of topics having small cartoons the likes of the New Yorker shows how comfortable this magazine is with itself. From the moment I picked up this magazine for the first time I felt like every word I read mattered and was worth my time to read. (Not true of many other magazines) American Scientist may not have the audience of Discover or National Geographic, nor is it as accessible as said titles, but for those with a true interest in science willing to challenge themselves and commit to real learning this magazine may be a perfect fit. At $4.95 it is certainly worth it to pick a copy on the news stand and try it out.\"\n",
      "\n",
      "$(\"#divname\").append(html);  \n",
      "});\n",
      "</code></pre>\n",
      "\n",
      "<p>As you can see the segment will be pretty large and I have no way of knowing how big as it is generated dynamically from my database depending on the reviewID which is defined by the user in their request.</p>\n",
      "\n",
      "<p>The html to be inserted into the div is a list of reviews and is generated using asp.net MVC by a repeater which loops through a list. (if that helps give you an idea of what I am doing).</p>\n",
      "\n",
      "<p>Is there any way to turn this large segment into one string which can be inserted into the append script?</p>\n",
      "\n",
      "<p>Thank You</p>\n",
      "\n",
      "======================\n"
     ]
    }
   ],
   "source": [
    "for text in questions_baseline.loc[questions_baseline[tags_top_100].sum(axis=1) == 14, 'full_text'].values:\n",
    "    print(text)\n",
    "    print(\"======================\")"
   ],
   "metadata": {
    "collapsed": false,
    "pycharm": {
     "name": "#%%\n"
    }
   }
  },
  {
   "cell_type": "markdown",
   "source": [],
   "metadata": {
    "collapsed": false,
    "pycharm": {
     "name": "#%% md\n"
    }
   }
  },
  {
   "cell_type": "code",
   "execution_count": 103,
   "outputs": [
    {
     "data": {
      "text/plain": "5551    is SFig language syntax efficient and clear (a...\n8762    Jquery append using multiline\\n<p>I have been ...\nName: full_text, dtype: object"
     },
     "execution_count": 103,
     "metadata": {},
     "output_type": "execute_result"
    }
   ],
   "source": [
    "questions_baseline.loc[questions_baseline[tags_top_100].sum(axis=1) == 14, 'full_text']"
   ],
   "metadata": {
    "collapsed": false,
    "pycharm": {
     "name": "#%%\n"
    }
   }
  },
  {
   "cell_type": "code",
   "execution_count": 104,
   "outputs": [
    {
     "name": "stdout",
     "output_type": "stream",
     "text": [
      "java\n",
      "php\n",
      "sql\n",
      "c\n",
      "r\n",
      "regex\n",
      "xml\n",
      "string\n",
      "spring\n",
      "apache\n",
      "list\n",
      "rest\n",
      "file\n",
      "class\n"
     ]
    }
   ],
   "source": [
    "for tag in tags_top_100:\n",
    "    if questions_baseline.loc[5551, tag] == 1:\n",
    "        print(tag)"
   ],
   "metadata": {
    "collapsed": false,
    "pycharm": {
     "name": "#%%\n"
    }
   }
  },
  {
   "cell_type": "code",
   "execution_count": null,
   "outputs": [],
   "source": [],
   "metadata": {
    "collapsed": false,
    "pycharm": {
     "name": "#%%\n"
    }
   }
  }
 ],
 "metadata": {
  "kernelspec": {
   "display_name": "Python 3",
   "language": "python",
   "name": "python3"
  },
  "language_info": {
   "codemirror_mode": {
    "name": "ipython",
    "version": 2
   },
   "file_extension": ".py",
   "mimetype": "text/x-python",
   "name": "python",
   "nbconvert_exporter": "python",
   "pygments_lexer": "ipython2",
   "version": "2.7.6"
  }
 },
 "nbformat": 4,
 "nbformat_minor": 0
}